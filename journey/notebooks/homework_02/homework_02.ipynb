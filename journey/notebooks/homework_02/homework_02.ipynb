{
 "cells": [
  {
   "cell_type": "markdown",
   "id": "e8c92a81",
   "metadata": {},
   "source": [
    "# Download files"
   ]
  },
  {
   "cell_type": "code",
   "execution_count": null,
   "id": "1a3625d1",
   "metadata": {},
   "outputs": [],
   "source": [
    "!wget https://d37ci6vzurychx.cloudfront.net/trip-data/green_tripdata_2021-01.parquet -P files\n",
    "!wget https://d37ci6vzurychx.cloudfront.net/trip-data/green_tripdata_2021-02.parquet -P files\n",
    "!wget https://d37ci6vzurychx.cloudfront.net/trip-data/green_tripdata_2021-03.parquet -P files"
   ]
  },
  {
   "cell_type": "markdown",
   "id": "74d5ea05",
   "metadata": {},
   "source": [
    "# Q2. Download and preprocess the data\n",
    "## How many files were saved to OUTPUT_FOLDER?\n",
    "\n",
    "- 1\n",
    "- 3\n",
    "- 4 ✔️\n",
    "- 7"
   ]
  },
  {
   "cell_type": "markdown",
   "id": "e1152964",
   "metadata": {},
   "source": [
    "# Q3. Train a model with autolog\n",
    "## How many parameters are automatically logged by MLflow?\n",
    "\n",
    "- 19\n",
    "- 17 ✔️\n",
    "- 10\n",
    "- 20"
   ]
  },
  {
   "cell_type": "markdown",
   "id": "d280dad9",
   "metadata": {},
   "source": [
    "# Q4. Launch the tracking server locally\n",
    "## In addition to backend-store-uri, what else do you need to pass to properly configure the server?\n",
    "\n",
    "- default-artifact-root ✔️\n",
    "- serve-artifacts\n",
    "- artifacts-only\n",
    "- artifacts-destination"
   ]
  },
  {
   "cell_type": "code",
   "execution_count": null,
   "id": "a8f70570",
   "metadata": {},
   "outputs": [],
   "source": [
    "mlflow ui --backend-store-uri sqlite:///mlflow.db --default-artifact-root ./mlruns"
   ]
  },
  {
   "cell_type": "markdown",
   "id": "3e5aa944",
   "metadata": {},
   "source": [
    "# Q5. Tune the hyperparameters of the model\n",
    "## What's the best validation RMSE that you got?\n",
    "\n",
    "- 6.128\n",
    "- 6.628 ✔️\n",
    "- 7.128\n",
    "- 7.628"
   ]
  },
  {
   "cell_type": "markdown",
   "id": "f8ae4493",
   "metadata": {},
   "source": [
    "# Q6. Promote the best model to the model registry\n",
    "## What is the test RMSE of the best model?\n",
    "\n",
    "- 6.1\n",
    "- 6.55 ✔️\n",
    "- 7.93\n",
    "- 15.1"
   ]
  }
 ],
 "metadata": {
  "kernelspec": {
   "display_name": "Python 3 (ipykernel)",
   "language": "python",
   "name": "python3"
  },
  "language_info": {
   "codemirror_mode": {
    "name": "ipython",
    "version": 3
   },
   "file_extension": ".py",
   "mimetype": "text/x-python",
   "name": "python",
   "nbconvert_exporter": "python",
   "pygments_lexer": "ipython3",
   "version": "3.10.4"
  }
 },
 "nbformat": 4,
 "nbformat_minor": 5
}
