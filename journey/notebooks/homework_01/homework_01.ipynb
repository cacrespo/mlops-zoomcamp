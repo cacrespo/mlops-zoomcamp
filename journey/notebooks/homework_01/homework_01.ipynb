{
 "cells": [
  {
   "cell_type": "markdown",
   "id": "73dec2ef",
   "metadata": {},
   "source": [
    "### [1.6 Homework](https://github.com/DataTalksClub/mlops-zoomcamp/blob/main/01-intro/homework.md)"
   ]
  },
  {
   "cell_type": "code",
   "execution_count": 1,
   "id": "6ad6cac9",
   "metadata": {},
   "outputs": [],
   "source": [
    "import pandas as pd\n",
    "\n",
    "from sklearn.feature_extraction import DictVectorizer\n",
    "from sklearn.linear_model import LinearRegression\n",
    "from sklearn.metrics import mean_squared_error\n",
    "\n",
    "import seaborn as sns\n",
    "import matplotlib.pyplot as plt"
   ]
  },
  {
   "cell_type": "markdown",
   "id": "cc6cd973",
   "metadata": {},
   "source": [
    "## Q1 Downloading the data. Read the data for January. How many records are there?"
   ]
  },
  {
   "cell_type": "code",
   "execution_count": 2,
   "id": "aede8dd6",
   "metadata": {},
   "outputs": [],
   "source": [
    "# !wget https://nyc-tlc.s3.amazonaws.com/trip+data/fhv_tripdata_2021-01.parquet\n",
    "# !wget https://nyc-tlc.s3.amazonaws.com/trip+data/fhv_tripdata_2021-02.parquet"
   ]
  },
  {
   "cell_type": "code",
   "execution_count": 3,
   "id": "24a33480",
   "metadata": {},
   "outputs": [],
   "source": [
    "df = pd.read_parquet('fhv_tripdata_2021-01.parquet')"
   ]
  },
  {
   "cell_type": "code",
   "execution_count": 4,
   "id": "approved-relevance",
   "metadata": {},
   "outputs": [
    {
     "data": {
      "text/plain": [
       "1154112"
      ]
     },
     "execution_count": 4,
     "metadata": {},
     "output_type": "execute_result"
    }
   ],
   "source": [
    "len(df)"
   ]
  },
  {
   "cell_type": "markdown",
   "id": "immune-perception",
   "metadata": {},
   "source": [
    "# Q2. Computing duration. What's the average trip duration in January?\n",
    "\n",
    "**Warning**\n",
    "```Timedelta('1 days 00:12:00').dt.seconds == 12.0``` \n",
    "\n",
    ":facepalm:\n",
    "check row 581"
   ]
  },
  {
   "cell_type": "code",
   "execution_count": 5,
   "id": "hazardous-underwear",
   "metadata": {},
   "outputs": [],
   "source": [
    "df['duration'] = (df['dropOff_datetime'] - df['pickup_datetime'])"
   ]
  },
  {
   "cell_type": "code",
   "execution_count": 6,
   "id": "stopped-monte",
   "metadata": {},
   "outputs": [],
   "source": [
    "df.duration = df.duration.apply(lambda td: td.total_seconds() / 60)"
   ]
  },
  {
   "cell_type": "code",
   "execution_count": 7,
   "id": "consolidated-outreach",
   "metadata": {},
   "outputs": [
    {
     "data": {
      "text/plain": [
       "19.167224093791006"
      ]
     },
     "execution_count": 7,
     "metadata": {},
     "output_type": "execute_result"
    }
   ],
   "source": [
    "df['duration'].mean()"
   ]
  },
  {
   "cell_type": "markdown",
   "id": "pretty-center",
   "metadata": {},
   "source": [
    "# Data preparation. \n",
    "Check the distribution of the duration variable. There are some outliers.\n",
    "\n",
    "Let's remove them and keep only the records where the duration was between 1 and 60 minutes (inclusive).\n",
    "\n",
    "How many records did you drop?\n",
    "\n"
   ]
  },
  {
   "cell_type": "code",
   "execution_count": 8,
   "id": "peripheral-emission",
   "metadata": {},
   "outputs": [
    {
     "data": {
      "text/plain": [
       "count    1.154112e+06\n",
       "mean     1.916722e+01\n",
       "std      3.986922e+02\n",
       "min      1.666667e-02\n",
       "25%      7.766667e+00\n",
       "50%      1.340000e+01\n",
       "75%      2.228333e+01\n",
       "max      4.233710e+05\n",
       "Name: duration, dtype: float64"
      ]
     },
     "execution_count": 8,
     "metadata": {},
     "output_type": "execute_result"
    }
   ],
   "source": [
    "df['duration'].describe()"
   ]
  },
  {
   "cell_type": "code",
   "execution_count": 9,
   "id": "sought-speaking",
   "metadata": {},
   "outputs": [
    {
     "data": {
      "image/png": "[encoded data removed]",
      "text/plain": [
       "<Figure size 432x288 with 1 Axes>"
      ]
     },
     "metadata": {
      "needs_background": "light"
     },
     "output_type": "display_data"
    }
   ],
   "source": [
    "df['duration'].plot(kind='box');"
   ]
  },
  {
   "cell_type": "code",
   "execution_count": 10,
   "id": "religious-straight",
   "metadata": {},
   "outputs": [
    {
     "data": {
      "text/plain": [
       "44286"
      ]
     },
     "execution_count": 10,
     "metadata": {},
     "output_type": "execute_result"
    }
   ],
   "source": [
    "len(df) - len(df.query('duration >= 1 and duration <= 60'))"
   ]
  },
  {
   "cell_type": "markdown",
   "id": "tamil-dimension",
   "metadata": {},
   "source": [
    "# Q3. Missing values. What's the fractions of missing values for the pickup location ID? Replace them with \"-1\"."
   ]
  },
  {
   "cell_type": "code",
   "execution_count": 11,
   "id": "listed-decrease",
   "metadata": {},
   "outputs": [],
   "source": [
    "df = df.query('duration >= 1 and duration <= 60').copy()"
   ]
  },
  {
   "cell_type": "code",
   "execution_count": 12,
   "id": "postal-feature",
   "metadata": {},
   "outputs": [
    {
     "data": {
      "text/plain": [
       "True     0.835273\n",
       "False    0.164727\n",
       "Name: PUlocationID, dtype: float64"
      ]
     },
     "execution_count": 12,
     "metadata": {},
     "output_type": "execute_result"
    }
   ],
   "source": [
    "df['PUlocationID'].isna().value_counts(normalize = True)"
   ]
  },
  {
   "cell_type": "code",
   "execution_count": 13,
   "id": "junior-paste",
   "metadata": {},
   "outputs": [],
   "source": [
    "df['PUlocationID'] = df['PUlocationID'].mask(df['PUlocationID'].isna(), -1)"
   ]
  },
  {
   "cell_type": "markdown",
   "id": "social-panama",
   "metadata": {},
   "source": [
    "# Q4. One-hot encoding. \n",
    "Let's apply one-hot encoding to the pickup and dropoff location IDs. We'll use only these two features for our model.\n",
    "\n",
    "- Turn the dataframe into a list of dictionaries\n",
    "- Fit a dictionary vectorizer\n",
    "- Get a feature matrix from it\n",
    "\n",
    "What's the dimensionality of this matrix? (The number of columns)."
   ]
  },
  {
   "cell_type": "code",
   "execution_count": 14,
   "id": "horizontal-buyer",
   "metadata": {},
   "outputs": [],
   "source": [
    "# cols\n",
    "\n",
    "categorical = ['PUlocationID', 'DOlocationID']\n",
    "numerical = ['duration']\n",
    "\n",
    "df[categorical] = df[categorical].astype(str)"
   ]
  },
  {
   "cell_type": "code",
   "execution_count": 15,
   "id": "fluid-success",
   "metadata": {},
   "outputs": [],
   "source": [
    "train_dicts = df[categorical].to_dict(orient='records')"
   ]
  },
  {
   "cell_type": "code",
   "execution_count": 16,
   "id": "dominant-pizza",
   "metadata": {},
   "outputs": [],
   "source": [
    "dv = DictVectorizer()\n",
    "X_train = dv.fit_transform(train_dicts)"
   ]
  },
  {
   "cell_type": "code",
   "execution_count": 17,
   "id": "raising-authority",
   "metadata": {},
   "outputs": [
    {
     "data": {
      "text/plain": [
       "(1109826, 525)"
      ]
     },
     "execution_count": 17,
     "metadata": {},
     "output_type": "execute_result"
    }
   ],
   "source": [
    "X_train.shape # 525 categorical + 1 numerical"
   ]
  },
  {
   "cell_type": "markdown",
   "id": "involved-concert",
   "metadata": {},
   "source": [
    "# Q5. Training a model.\n",
    "Now let's use the feature matrix from the previous step to train a model.\n",
    "\n",
    "- Train a plain linear regression model with default parameters\n",
    "- Calculate the RMSE of the model on the training data\n",
    "\n",
    "What's the RMSE on train?"
   ]
  },
  {
   "cell_type": "code",
   "execution_count": 18,
   "id": "polar-yacht",
   "metadata": {},
   "outputs": [
    {
     "data": {
      "text/plain": [
       "10.528519107212283"
      ]
     },
     "execution_count": 18,
     "metadata": {},
     "output_type": "execute_result"
    }
   ],
   "source": [
    "target = 'duration'\n",
    "y_train = df[target].values\n",
    "\n",
    "lr = LinearRegression()\n",
    "lr.fit(X_train, y_train)\n",
    "\n",
    "y_pred = lr.predict(X_train)\n",
    "\n",
    "mean_squared_error(y_train, y_pred, squared=False)"
   ]
  },
  {
   "cell_type": "code",
   "execution_count": 19,
   "id": "western-submission",
   "metadata": {},
   "outputs": [
    {
     "name": "stderr",
     "output_type": "stream",
     "text": [
      "/home/carlos/.local/lib/python3.9/site-packages/seaborn/distributions.py:2619: FutureWarning: `distplot` is a deprecated function and will be removed in a future version. Please adapt your code to use either `displot` (a figure-level function with similar flexibility) or `histplot` (an axes-level function for histograms).\n",
      "  warnings.warn(msg, FutureWarning)\n",
      "/home/carlos/.local/lib/python3.9/site-packages/seaborn/distributions.py:2619: FutureWarning: `distplot` is a deprecated function and will be removed in a future version. Please adapt your code to use either `displot` (a figure-level function with similar flexibility) or `histplot` (an axes-level function for histograms).\n",
      "  warnings.warn(msg, FutureWarning)\n"
     ]
    },
    {
     "data": {
      "image/png": "[encoded data removed]",
      "text/plain": [
       "<Figure size 432x288 with 1 Axes>"
      ]
     },
     "metadata": {
      "needs_background": "light"
     },
     "output_type": "display_data"
    }
   ],
   "source": [
    "sns.distplot(y_pred, label='prediction')\n",
    "sns.distplot(y_train, label='actual')\n",
    "\n",
    "plt.legend();"
   ]
  },
  {
   "cell_type": "markdown",
   "id": "hairy-tolerance",
   "metadata": {},
   "source": [
    "# Q6. Evaluating the model.\n",
    "Now let's apply this model to the validation dataset (Feb 2021).\n",
    "\n",
    "- What's the RMSE on validation?"
   ]
  },
  {
   "cell_type": "code",
   "execution_count": 20,
   "id": "finite-lebanon",
   "metadata": {},
   "outputs": [],
   "source": [
    "def read_data(file):\n",
    "    df = pd.read_parquet(file)\n",
    "    df['duration'] = (df['dropOff_datetime'] - df['pickup_datetime'])\n",
    "    df.duration = df.duration.apply(lambda td: td.total_seconds() / 60)\n",
    "    \n",
    "    df = df.query('duration >= 1 and duration <= 60').copy()\n",
    "    df['PUlocationID'] = df['PUlocationID'].mask(df['PUlocationID'].isna(), -1)\n",
    "    \n",
    "    categorical = ['PUlocationID', 'DOlocationID']\n",
    "    numerical = ['duration']\n",
    "\n",
    "    df[categorical] = df[categorical].astype(str)\n",
    "    \n",
    "    return df[categorical + numerical]"
   ]
  },
  {
   "cell_type": "code",
   "execution_count": 21,
   "id": "packed-version",
   "metadata": {},
   "outputs": [],
   "source": [
    "df_val = read_data('fhv_tripdata_2021-02.parquet')"
   ]
  },
  {
   "cell_type": "code",
   "execution_count": 22,
   "id": "gorgeous-portsmouth",
   "metadata": {},
   "outputs": [],
   "source": [
    "# ops! There is one new categorical value in february"
   ]
  },
  {
   "cell_type": "code",
   "execution_count": 23,
   "id": "deadly-emerald",
   "metadata": {},
   "outputs": [],
   "source": [
    "def check_categories(column: str):\n",
    "    df_uniq = set(df[column])\n",
    "    df_val_uniq = set(df_val[column])\n",
    "\n",
    "    for i in df_val_uniq:\n",
    "        if i not in df_uniq:\n",
    "            print (i)"
   ]
  },
  {
   "cell_type": "code",
   "execution_count": 24,
   "id": "blind-exhaust",
   "metadata": {},
   "outputs": [],
   "source": [
    "check_categories('PUlocationID')"
   ]
  },
  {
   "cell_type": "code",
   "execution_count": 25,
   "id": "dried-modern",
   "metadata": {},
   "outputs": [
    {
     "name": "stdout",
     "output_type": "stream",
     "text": [
      "110.0\n"
     ]
    }
   ],
   "source": [
    "check_categories('DOlocationID')"
   ]
  },
  {
   "cell_type": "code",
   "execution_count": 26,
   "id": "fuzzy-league",
   "metadata": {},
   "outputs": [],
   "source": [
    "# fix the problem\n",
    "df_val['DOlocationID'].replace('110.0', 'nan', inplace = True)"
   ]
  },
  {
   "cell_type": "code",
   "execution_count": 27,
   "id": "ordinary-importance",
   "metadata": {
    "scrolled": false
   },
   "outputs": [],
   "source": [
    "# continuing with the prediction\n",
    "\n",
    "val_dicts = df_val[categorical].to_dict(orient='records')\n",
    "X_val = dv.fit_transform(val_dicts)\n",
    "y_val_predict = lr.predict(X_val)\n",
    "\n",
    "y_val = df_val['duration']"
   ]
  },
  {
   "cell_type": "code",
   "execution_count": 28,
   "id": "hazardous-appreciation",
   "metadata": {},
   "outputs": [
    {
     "data": {
      "text/plain": [
       "11.014291750637167"
      ]
     },
     "execution_count": 28,
     "metadata": {},
     "output_type": "execute_result"
    }
   ],
   "source": [
    "mean_squared_error(y_val, y_val_predict, squared=False)"
   ]
  },
  {
   "cell_type": "code",
   "execution_count": 29,
   "id": "minor-praise",
   "metadata": {},
   "outputs": [
    {
     "name": "stderr",
     "output_type": "stream",
     "text": [
      "/home/carlos/.local/lib/python3.9/site-packages/seaborn/distributions.py:2619: FutureWarning: `distplot` is a deprecated function and will be removed in a future version. Please adapt your code to use either `displot` (a figure-level function with similar flexibility) or `histplot` (an axes-level function for histograms).\n",
      "  warnings.warn(msg, FutureWarning)\n",
      "/home/carlos/.local/lib/python3.9/site-packages/seaborn/distributions.py:2619: FutureWarning: `distplot` is a deprecated function and will be removed in a future version. Please adapt your code to use either `displot` (a figure-level function with similar flexibility) or `histplot` (an axes-level function for histograms).\n",
      "  warnings.warn(msg, FutureWarning)\n"
     ]
    },
    {
     "data": {
      "image/png": "[encoded data removed]",
      "text/plain": [
       "<Figure size 432x288 with 1 Axes>"
      ]
     },
     "metadata": {
      "needs_background": "light"
     },
     "output_type": "display_data"
    }
   ],
   "source": [
    "sns.distplot(y_val_predict, label='prediction')\n",
    "sns.distplot(y_val, label='actual')\n",
    "\n",
    "plt.legend();"
   ]
  }
 ],
 "metadata": {
  "kernelspec": {
   "display_name": "Python 3",
   "language": "python",
   "name": "python3"
  },
  "language_info": {
   "codemirror_mode": {
    "name": "ipython",
    "version": 3
   },
   "file_extension": ".py",
   "mimetype": "text/x-python",
   "name": "python",
   "nbconvert_exporter": "python",
   "pygments_lexer": "ipython3",
   "version": "3.9.7"
  }
 },
 "nbformat": 4,
 "nbformat_minor": 5
}
